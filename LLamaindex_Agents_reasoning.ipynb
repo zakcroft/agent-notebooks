{
  "nbformat": 4,
  "nbformat_minor": 0,
  "metadata": {
    "colab": {
      "provenance": [],
      "authorship_tag": "ABX9TyNW3SI2E+orY61NfQfyiyd4"
    },
    "kernelspec": {
      "name": "python3",
      "display_name": "Python 3"
    },
    "language_info": {
      "name": "python"
    }
  },
  "cells": [
    {
      "cell_type": "code",
      "execution_count": null,
      "metadata": {
        "id": "GFM9aisRCiHz"
      },
      "outputs": [],
      "source": [
        "%pip install llama-index-readers-file --quiet\n",
        "%pip install llama-index-embeddings-openai --quiet\n",
        "%pip install llama-index-agent-openai --quiet\n",
        "%pip install llama-index-llms-openai --quiet"
      ]
    },
    {
      "cell_type": "code",
      "source": [
        "import nest_asyncio\n",
        "nest_asyncio.apply()\n",
        "from google.colab import drive\n",
        "drive.mount('/content/drive')\n",
        "\n",
        "import os\n",
        "os.environ[\"OPENAI_API_KEY\"] = ''"
      ],
      "metadata": {
        "colab": {
          "base_uri": "https://localhost:8080/"
        },
        "id": "dxK8wBVxCnRW",
        "outputId": "97d26b53-f499-4c62-f23a-58988c1ab3b7"
      },
      "execution_count": null,
      "outputs": [
        {
          "output_type": "stream",
          "name": "stdout",
          "text": [
            "Drive already mounted at /content/drive; to attempt to forcibly remount, call drive.mount(\"/content/drive\", force_remount=True).\n"
          ]
        }
      ]
    },
    {
      "cell_type": "code",
      "source": [
        "from llama_index.core.node_parser import SentenceSplitter\n",
        "\n",
        "from llama_index.core import SimpleDirectoryReader\n",
        "# load documents\n",
        "documents = SimpleDirectoryReader(input_files=[\"/content/drive/MyDrive/Colab Notebooks/Building Agentic RAG with Llamaindex/metagpt.pdf\"]).load_data()\n",
        "\n",
        "splitter = SentenceSplitter(chunk_size=1024)\n",
        "nodes = splitter.get_nodes_from_documents(documents)"
      ],
      "metadata": {
        "id": "fY7rLp2eEWDi"
      },
      "execution_count": null,
      "outputs": []
    },
    {
      "cell_type": "code",
      "source": [
        "from llama_index.core import VectorStoreIndex\n",
        "\n",
        "vector_index = VectorStoreIndex(nodes)\n",
        "query_engine = vector_index.as_query_engine(similarity_top_k=2)"
      ],
      "metadata": {
        "id": "TEvvgU3hHuXQ"
      },
      "execution_count": null,
      "outputs": []
    },
    {
      "cell_type": "code",
      "source": [
        "from typing import List\n",
        "from llama_index.core.vector_stores import FilterCondition\n",
        "from llama_index.core.tools import FunctionTool\n",
        "from llama_index.core.vector_stores import MetadataFilters\n",
        "\n",
        "def vector_query(\n",
        "    query: str,\n",
        "    page_numbers: List[str]\n",
        ") -> str:\n",
        "    \"\"\"Perform a vector search over an index.\n",
        "\n",
        "    query (str): the string query to be embedded.\n",
        "    page_numbers (List[str]): Filter by set of pages. Leave BLANK if we want to perform a vector search\n",
        "        over all pages. Otherwise, filter by the set of specified pages.\n",
        "\n",
        "    \"\"\"\n",
        "\n",
        "    metadata_dicts = [\n",
        "        {\"key\": \"page_label\", \"value\": p} for p in page_numbers\n",
        "    ]\n",
        "\n",
        "    query_engine = vector_index.as_query_engine(\n",
        "        similarity_top_k=2,\n",
        "        filters=MetadataFilters.from_dicts(\n",
        "            metadata_dicts,\n",
        "            condition=FilterCondition.OR\n",
        "        )\n",
        "    )\n",
        "    response = query_engine.query(query)\n",
        "    return response\n",
        "\n",
        "\n",
        "vector_tool = FunctionTool.from_defaults(\n",
        "    name=\"vector_tool\",\n",
        "    fn=vector_query\n",
        ")"
      ],
      "metadata": {
        "id": "q8j0RFwZD82B"
      },
      "execution_count": null,
      "outputs": []
    },
    {
      "cell_type": "code",
      "source": [
        "from llama_index.core import SummaryIndex\n",
        "from llama_index.core.tools import QueryEngineTool\n",
        "\n",
        "summary_index = SummaryIndex(nodes)\n",
        "summary_query_engine = summary_index.as_query_engine(\n",
        "    response_mode=\"tree_summarize\",\n",
        "    use_async=True,\n",
        ")\n",
        "summary_tool = QueryEngineTool.from_defaults(\n",
        "    name=\"summary_tool\",\n",
        "    query_engine=summary_query_engine,\n",
        "    description=(\n",
        "        \"Useful if you want to get a summary of MetaGPT\"\n",
        "    ),\n",
        ")"
      ],
      "metadata": {
        "id": "WPusjLozD-eL"
      },
      "execution_count": null,
      "outputs": []
    },
    {
      "cell_type": "code",
      "source": [
        "from llama_index.llms.openai import OpenAI\n",
        "\n",
        "llm = OpenAI(model=\"gpt-4o\", temperature=0)"
      ],
      "metadata": {
        "id": "24ODK7KRFmpd"
      },
      "execution_count": null,
      "outputs": []
    },
    {
      "cell_type": "code",
      "source": [
        "from llama_index.core.agent import FunctionCallingAgentWorker\n",
        "from llama_index.core.agent import AgentRunner\n",
        "\n",
        "agent_worker = FunctionCallingAgentWorker.from_tools(\n",
        "    [vector_tool, summary_tool],\n",
        "    llm=llm,\n",
        "    verbose=True\n",
        ")\n",
        "agent = AgentRunner(agent_worker)"
      ],
      "metadata": {
        "id": "Ewmpf0_8Fv5K"
      },
      "execution_count": null,
      "outputs": []
    },
    {
      "cell_type": "code",
      "source": [
        "response = agent.query(\n",
        "    \"Tell me about the agent roles in MetaGPT, \"\n",
        "    \"and then how they communicate with each other.\"\n",
        ")"
      ],
      "metadata": {
        "colab": {
          "base_uri": "https://localhost:8080/"
        },
        "id": "y61IuExEHNdK",
        "outputId": "069c5bb1-b604-43a0-900a-ab4f336c7382"
      },
      "execution_count": null,
      "outputs": [
        {
          "output_type": "stream",
          "name": "stdout",
          "text": [
            "Added user message to memory: Tell me about the agent roles in MetaGPT, and then how they communicate with each other.\n",
            "=== Calling Function ===\n",
            "Calling function: vector_tool with args: {\"query\": \"agent roles in MetaGPT\", \"page_numbers\": []}\n",
            "=== Function Output ===\n",
            "In MetaGPT, there are five specified agent roles: Product Manager, Architect, Project Manager, Engineer, and QA Engineer. Each role has specific responsibilities and expertise tailored to different aspects of the software development process within the framework. The roles are designed to work collaboratively, with each agent contributing specialized outputs aligned with their designated tasks and skills.\n",
            "=== Calling Function ===\n",
            "Calling function: vector_tool with args: {\"query\": \"how agents communicate with each other in MetaGPT\", \"page_numbers\": []}\n",
            "=== Function Output ===\n",
            "Agents in MetaGPT communicate with each other by utilizing a shared message pool where they publish structured messages and subscribe to relevant messages based on their profiles. This communication protocol allows agents to exchange information efficiently and transparently. Additionally, agents in MetaGPT communicate through documents and diagrams, providing structured outputs that contain all necessary information, thus preventing irrelevant or missing content.\n",
            "=== LLM Response ===\n",
            "### Agent Roles in MetaGPT\n",
            "\n",
            "In MetaGPT, there are five specified agent roles:\n",
            "\n",
            "1. **Product Manager**: Focuses on understanding customer needs, defining product requirements, and ensuring the product vision aligns with business goals.\n",
            "2. **Architect**: Responsible for designing the system architecture, ensuring scalability, performance, and alignment with technical standards.\n",
            "3. **Project Manager**: Manages project timelines, resources, and ensures that the project stays on track and within budget.\n",
            "4. **Engineer**: Implements the technical solutions, writes code, and develops the software according to the specifications.\n",
            "5. **QA Engineer**: Ensures the quality of the product by conducting tests, identifying bugs, and verifying that the software meets the required standards.\n",
            "\n",
            "### Communication Among Agents in MetaGPT\n",
            "\n",
            "Agents in MetaGPT communicate with each other through a shared message pool. This pool allows agents to:\n",
            "\n",
            "- **Publish Structured Messages**: Agents post messages containing relevant information and updates.\n",
            "- **Subscribe to Relevant Messages**: Agents subscribe to messages that are pertinent to their roles and tasks.\n",
            "\n",
            "This communication protocol ensures efficient and transparent information exchange. Additionally, agents use documents and diagrams to communicate, providing structured outputs that contain all necessary information, thus preventing irrelevant or missing content. This structured approach ensures that all agents are aligned and can collaborate effectively.\n"
          ]
        }
      ]
    },
    {
      "cell_type": "code",
      "source": [
        "print(response.source_nodes[0].get_content(metadata_mode=\"all\"))"
      ],
      "metadata": {
        "colab": {
          "base_uri": "https://localhost:8080/"
        },
        "id": "aK108CGMKjVR",
        "outputId": "e9ce1f5e-d45c-4153-e11b-8d4c92d4417e"
      },
      "execution_count": null,
      "outputs": [
        {
          "output_type": "stream",
          "name": "stdout",
          "text": [
            "page_label: 9\n",
            "file_name: metagpt.pdf\n",
            "file_path: /content/drive/MyDrive/Colab Notebooks/Building Agentic RAG with Llamaindex/metagpt.pdf\n",
            "file_type: application/pdf\n",
            "file_size: 16911937\n",
            "creation_date: 2024-06-02\n",
            "last_modified_date: 2024-05-31\n",
            "\n",
            "Preprint\n",
            "Table 2: Comparison of capabilities for MetaGPT and other approaches. ‘!’ indicates the\n",
            "presence of a specific feature in the corresponding framework, ‘ %’ its absence.\n",
            "Framework Capabiliy AutoGPT LangChain AgentVerse ChatDev MetaGPT\n",
            "PRD generation % % % % !\n",
            "Tenical design genenration % % % % !\n",
            "API interface generation % % % % !\n",
            "Code generation ! ! ! ! !\n",
            "Precompilation execution % % % % !\n",
            "Role-based task management % % % ! !\n",
            "Code review % % ! ! !\n",
            "Table 3: Ablation study on roles. ‘#’ denotes ‘The number of’, ‘Product’ denotes ‘Product man-\n",
            "ager’, and ‘Project’ denotes ‘Project manager’. ‘ !’ indicates the addition of a specific role. ‘Revi-\n",
            "sions’ refers to ‘Human Revision Cost’.\n",
            "Engineer Product Architect Project #Agents #Lines Expense Revisions Executability\n",
            "! % % % 1 83.0 $ 0.915 10 1.0\n",
            "! ! % % 2 112.0 $ 1.059 6.5 2.0\n",
            "! ! ! % 3 143.0 $ 1.204 4.0 2.5\n",
            "! ! % ! 3 205.0 $ 1.251 3.5 2.0\n",
            "! ! ! ! 4 191.0 $ 1.385 2.5 4.0\n",
            "can easily integrate SOP-like designs to improve their performance, similar to injecting chain-of-\n",
            "thought (Wei et al., 2022) in LLMs.\n",
            "4.4 A BLATION STUDY\n",
            "The Effectiveness of Roles To understand the impact of different roles on the final results, we\n",
            "perform two tasks that involve generating effective code and calculating average statistics. When we\n",
            "exclude certain roles, unworkable codes are generated. As indicated by Table 3, the addition of roles\n",
            "different from just the Engineer consistently improves both revisions and executability. While more\n",
            "roles slightly increase the expenses, the overall performance improves noticeably, demonstrating the\n",
            "effectiveness of the various roles.\n",
            "The Effectiveness of Executable Feedback Mechanism As shown in Figure 4, adding executable\n",
            "feedback into MetaGPT leads to a significant improvement of 4.2% and 5.4% in Pass @1 on Hu-\n",
            "manEval and MBPP, respectively. Besides, Table 1 shows that the feedback mechanism improves\n",
            "feasibility (3.67 to 3.75) and reduces the cost of human revisions (2.25 to 0.83). These results\n",
            "illustrate how our designed feedback mechanism can produce higher-quality code. Additional quan-\n",
            "titative results of MetaGPT and MetaGPT without executable feedback are shown in Table 4 and\n",
            "Table 9.\n",
            "5 C ONCLUSION\n",
            "This work introduces MetaGPT, a novel meta-programming framework that leverages SOPs to en-\n",
            "hance the problem-solving capabilities of multi-agent systems based on Large Language Models\n",
            "(LLMs). MetaGPT models a group of agents as a simulated software company, analogous to simu-\n",
            "lated towns (Park et al., 2023) and the Minecraft Sandbox in V oyager (Wang et al., 2023a). MetaGPT\n",
            "leverages role specialization, workflow management, and efficient sharing mechanisms such as mes-\n",
            "sage pools and subscriptions, rendering it a flexible and portable platform for autonomous agents\n",
            "and multi-agent frameworks. It uses an executable feedback mechanism to enhance code generation\n",
            "quality during runtime. In extensive experiments, MetaGPT achieves state-of-the-art performance\n",
            "on multiple benchmarks. The successful integration of human-like SOPs inspires future research\n",
            "on human-inspired techniques for artificial multi-agent systems. We also view our work as an early\n",
            "attempt to regulate LLM-based multi-agent frameworks. See also the outlook (Appendix A) .\n",
            "9\n"
          ]
        }
      ]
    },
    {
      "cell_type": "code",
      "source": [
        "response = agent.chat(\n",
        "    \"Tell me about the evaluation datasets used.\"\n",
        ")"
      ],
      "metadata": {
        "colab": {
          "base_uri": "https://localhost:8080/"
        },
        "id": "swQst5d1MP1T",
        "outputId": "d3072694-1fd6-4b4f-aa10-a3ee9f407aba"
      },
      "execution_count": null,
      "outputs": [
        {
          "output_type": "stream",
          "name": "stdout",
          "text": [
            "Added user message to memory: Tell me about the evaluation datasets used.\n",
            "=== Calling Function ===\n",
            "Calling function: vector_tool with args: {\"query\": \"evaluation datasets used in MetaGPT\", \"page_numbers\": []}\n",
            "=== Function Output ===\n",
            "The evaluation datasets used in MetaGPT are the SoftwareDev dataset and the MBPP and HumanEval benchmarks.\n",
            "=== LLM Response ===\n",
            "### Evaluation Datasets Used in MetaGPT\n",
            "\n",
            "MetaGPT utilizes the following evaluation datasets:\n",
            "\n",
            "1. **SoftwareDev Dataset**: This dataset is specifically designed to evaluate the performance of MetaGPT in the context of software development tasks. It includes various scenarios and tasks that agents might encounter in real-world software projects.\n",
            "\n",
            "2. **MBPP (Mostly Basic Python Problems)**: This benchmark consists of a collection of Python programming problems that range from basic to intermediate levels. It is used to assess the coding and problem-solving capabilities of the agents.\n",
            "\n",
            "3. **HumanEval**: This benchmark includes a set of programming problems that are designed to evaluate the ability of agents to generate correct and efficient code. It is used to measure the overall performance and accuracy of the agents in coding tasks.\n",
            "\n",
            "These datasets and benchmarks help in assessing the effectiveness, accuracy, and efficiency of the agents in MetaGPT across different aspects of software development and programming.\n"
          ]
        }
      ]
    },
    {
      "cell_type": "code",
      "source": [
        "response = agent.chat(\"Tell me the results over one of the above datasets.\")"
      ],
      "metadata": {
        "colab": {
          "base_uri": "https://localhost:8080/"
        },
        "id": "pc5MBZQnOEqa",
        "outputId": "3b483f64-caf8-4280-b1e2-245f87b12833"
      },
      "execution_count": null,
      "outputs": [
        {
          "output_type": "stream",
          "name": "stdout",
          "text": [
            "Added user message to memory: Tell me the results over one of the above datasets.\n",
            "=== Calling Function ===\n",
            "Calling function: vector_tool with args: {\"query\": \"results over evaluation datasets in MetaGPT\", \"page_numbers\": []}\n",
            "=== Function Output ===\n",
            "MetaGPT achieves an average score of 3.9, surpassing ChatDev's score of 2.1. When compared to general intelligent algorithms like AutoGPT, which score 1.0, MetaGPT demonstrates superior performance. Additionally, MetaGPT outperforms preceding approaches in both HumanEval and MBPP benchmarks, achieving 85.9% and 87.7% respectively.\n",
            "=== LLM Response ===\n",
            "### Results Over Evaluation Datasets in MetaGPT\n",
            "\n",
            "MetaGPT has demonstrated impressive performance across various evaluation datasets:\n",
            "\n",
            "1. **General Performance**:\n",
            "   - **MetaGPT**: Achieves an average score of 3.9.\n",
            "   - **ChatDev**: Scores 2.1.\n",
            "   - **AutoGPT**: Scores 1.0.\n",
            "\n",
            "   MetaGPT significantly outperforms both ChatDev and AutoGPT, showcasing its superior capabilities.\n",
            "\n",
            "2. **HumanEval Benchmark**:\n",
            "   - **MetaGPT**: Achieves a score of 85.9%.\n",
            "\n",
            "3. **MBPP Benchmark**:\n",
            "   - **MetaGPT**: Achieves a score of 87.7%.\n",
            "\n",
            "These results indicate that MetaGPT not only excels in general intelligent algorithm comparisons but also outperforms preceding approaches in specific programming and software development benchmarks like HumanEval and MBPP.\n"
          ]
        }
      ]
    },
    {
      "cell_type": "code",
      "source": [
        "agent_worker = FunctionCallingAgentWorker.from_tools(\n",
        "    [vector_tool, summary_tool],\n",
        "    llm=llm,\n",
        "    verbose=True\n",
        ")\n",
        "agent = AgentRunner(agent_worker)"
      ],
      "metadata": {
        "id": "uSy6lju5VDi6"
      },
      "execution_count": null,
      "outputs": []
    },
    {
      "cell_type": "code",
      "source": [
        "task = agent.create_task(\n",
        "    \"Tell me about the agent roles in MetaGPT, \"\n",
        "    \"and then how they communicate with each other.\"\n",
        ")"
      ],
      "metadata": {
        "id": "n95jSyDfVI8v"
      },
      "execution_count": null,
      "outputs": []
    },
    {
      "cell_type": "code",
      "source": [
        "step_output = agent.run_step(task.task_id)"
      ],
      "metadata": {
        "colab": {
          "base_uri": "https://localhost:8080/"
        },
        "id": "Xvu-Xi78VVmQ",
        "outputId": "50a7a4c8-cc8d-4be5-e8e4-5884ef6dd5f7"
      },
      "execution_count": null,
      "outputs": [
        {
          "output_type": "stream",
          "name": "stdout",
          "text": [
            "Added user message to memory: Tell me about the agent roles in MetaGPT, and then how they communicate with each other.\n",
            "=== Calling Function ===\n",
            "Calling function: vector_tool with args: {\"query\": \"agent roles in MetaGPT\", \"page_numbers\": []}\n",
            "=== Function Output ===\n",
            "In MetaGPT, there are five specified agent roles: Product Manager, Architect, Project Manager, Engineer, and QA Engineer. Each role has specific responsibilities and expertise tailored to their designated tasks within the software company framework. These roles are crucial for the effective functioning of the multi-agent system and contribute to the overall success of the code generation process.\n",
            "=== Calling Function ===\n",
            "Calling function: vector_tool with args: {\"query\": \"how agents communicate with each other in MetaGPT\", \"page_numbers\": []}\n",
            "=== Function Output ===\n",
            "Agents in MetaGPT communicate with each other by utilizing a shared message pool where they publish structured messages and subscribe to relevant messages based on their profiles. This communication protocol enhances role communication efficiency by allowing agents to exchange messages directly, access messages from other entities transparently, and retrieve required information from the shared pool without the need to inquire about other agents individually. Additionally, agents in MetaGPT communicate through documents and diagrams as structured outputs rather than dialogue, ensuring that all necessary information is provided and preventing irrelevant or missing content.\n"
          ]
        }
      ]
    },
    {
      "cell_type": "code",
      "source": [
        "completed_steps = agent.get_completed_steps(task.task_id)\n",
        "print(f\"Num completed for task {task.task_id}: {len(completed_steps)}\")\n",
        "print(completed_steps[0].output.sources[0].raw_output)"
      ],
      "metadata": {
        "colab": {
          "base_uri": "https://localhost:8080/"
        },
        "id": "zlpRYKjAVr2k",
        "outputId": "54726e55-e615-4f3f-989c-a86d12ae4553"
      },
      "execution_count": null,
      "outputs": [
        {
          "output_type": "stream",
          "name": "stdout",
          "text": [
            "Num completed for task cd189117-2341-4b46-91a2-b29ef4f02695: 1\n",
            "In MetaGPT, there are five specified agent roles: Product Manager, Architect, Project Manager, Engineer, and QA Engineer. Each role has specific responsibilities and expertise tailored to their designated tasks within the software company framework. These roles are crucial for the effective functioning of the multi-agent system and contribute to the overall success of the code generation process.\n"
          ]
        }
      ]
    },
    {
      "cell_type": "code",
      "source": [
        "upcoming_steps = agent.get_upcoming_steps(task.task_id)\n",
        "print(f\"Num upcoming steps for task {task.task_id}: {len(upcoming_steps)}\")\n",
        "upcoming_steps[0]"
      ],
      "metadata": {
        "colab": {
          "base_uri": "https://localhost:8080/"
        },
        "id": "n4dXWzy6XLHA",
        "outputId": "f7918293-b9cd-4fd5-ba11-766796ec70cb"
      },
      "execution_count": null,
      "outputs": [
        {
          "output_type": "stream",
          "name": "stdout",
          "text": [
            "Num upcoming steps for task cd189117-2341-4b46-91a2-b29ef4f02695: 1\n"
          ]
        },
        {
          "output_type": "execute_result",
          "data": {
            "text/plain": [
              "TaskStep(task_id='cd189117-2341-4b46-91a2-b29ef4f02695', step_id='678f9d70-8b57-451e-b195-ac836e39effc', input=None, step_state={}, next_steps={}, prev_steps={}, is_ready=True)"
            ]
          },
          "metadata": {},
          "execution_count": 98
        }
      ]
    },
    {
      "cell_type": "code",
      "source": [
        "step_output = agent.run_step(\n",
        "    task.task_id, input=\"What about how agents share information?\"\n",
        ")"
      ],
      "metadata": {
        "colab": {
          "base_uri": "https://localhost:8080/"
        },
        "id": "_Af62nfkXXpu",
        "outputId": "5687d309-dcc1-4b3d-c0ce-e8a62c576403"
      },
      "execution_count": null,
      "outputs": [
        {
          "output_type": "stream",
          "name": "stdout",
          "text": [
            "Added user message to memory: What about how agents share information?\n",
            "=== Calling Function ===\n",
            "Calling function: vector_tool with args: {\"query\": \"how agents share information in MetaGPT\", \"page_numbers\": []}\n",
            "=== Function Output ===\n",
            "Agents in MetaGPT share information by utilizing a shared message pool where they can publish structured messages and subscribe to relevant messages based on their profiles. This shared message pool allows all agents to exchange messages directly, eliminating the need for one-to-one communication. Additionally, agents can access messages from other entities transparently, enhancing communication efficiency. To manage information overload, agents can use a subscription mechanism to extract only relevant information based on their role profiles.\n"
          ]
        }
      ]
    },
    {
      "cell_type": "code",
      "source": [
        "upcoming_steps = agent.get_upcoming_steps(task.task_id)\n",
        "print(f\"Num upcoming steps for task {task.task_id}: {len(upcoming_steps)}\")\n"
      ],
      "metadata": {
        "colab": {
          "base_uri": "https://localhost:8080/"
        },
        "id": "vX4qgU-7f-Mu",
        "outputId": "fdf656f0-ab81-4468-8b5c-dfa7005c95c1"
      },
      "execution_count": null,
      "outputs": [
        {
          "output_type": "stream",
          "name": "stdout",
          "text": [
            "Num upcoming steps for task cd189117-2341-4b46-91a2-b29ef4f02695: 1\n"
          ]
        }
      ]
    },
    {
      "cell_type": "code",
      "source": [
        "step_output = agent.run_step(task.task_id)\n",
        "print(step_output.is_last)"
      ],
      "metadata": {
        "colab": {
          "base_uri": "https://localhost:8080/"
        },
        "id": "t4xBOvPceKKd",
        "outputId": "4a61879b-2aaf-442f-9d88-29bc31026e58"
      },
      "execution_count": null,
      "outputs": [
        {
          "output_type": "stream",
          "name": "stdout",
          "text": [
            "=== LLM Response ===\n",
            "In MetaGPT, agents share information through a shared message pool. This pool allows agents to publish structured messages and subscribe to relevant ones based on their profiles. This system facilitates direct message exchange among agents, eliminating the need for one-to-one communication. Agents can transparently access messages from other entities, enhancing communication efficiency. To manage information overload, agents use a subscription mechanism to extract only the information pertinent to their roles.\n",
            "True\n"
          ]
        }
      ]
    },
    {
      "cell_type": "code",
      "source": [
        "response = agent.finalize_response(task.task_id)"
      ],
      "metadata": {
        "id": "9zTLI6-ofMUS"
      },
      "execution_count": null,
      "outputs": []
    },
    {
      "cell_type": "code",
      "source": [
        "print(str(response))"
      ],
      "metadata": {
        "colab": {
          "base_uri": "https://localhost:8080/"
        },
        "id": "3bnjl5-XfP_s",
        "outputId": "e038ee72-b225-4d33-997a-e15a0c33202c"
      },
      "execution_count": null,
      "outputs": [
        {
          "output_type": "stream",
          "name": "stdout",
          "text": [
            "In MetaGPT, agents share information through a shared message pool. This pool allows agents to publish structured messages and subscribe to relevant ones based on their profiles. This system facilitates direct message exchange among agents, eliminating the need for one-to-one communication. Agents can transparently access messages from other entities, enhancing communication efficiency. To manage information overload, agents use a subscription mechanism to extract only the information pertinent to their roles.\n"
          ]
        }
      ]
    }
  ]
}